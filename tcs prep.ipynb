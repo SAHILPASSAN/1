{
 "cells": [
  {
   "cell_type": "code",
   "execution_count": 7,
   "metadata": {},
   "outputs": [
    {
     "name": "stdout",
     "output_type": "stream",
     "text": [
      "4\n",
      "6\n",
      "8\n",
      "10\n",
      "3 2\n"
     ]
    }
   ],
   "source": [
    "def spiralSplicer(inp):                 \n",
    "    step_count = 1 # Batch size tracker    \n",
    "    step_limit = 2 # Batch size limiter \n",
    "    adder = 1 # switches between -1 and +1 \n",
    "    x, y = 0, 0 # Co-ordinates of step K  \n",
    "   \n",
    "    for n in range(2, inp + 1): \n",
    "     \n",
    "        # Keeps track of steps \n",
    "        # Checks on the current batch \n",
    "        if (step_count <= .5 * step_limit): \n",
    "            x += adder # Switch to operating on x \n",
    "   \n",
    "        elif (step_count <= step_limit): \n",
    "            y += adder # Switch to operating on x \n",
    "           \n",
    "        if (step_count == step_limit): \n",
    "            # Changes adder to -1 and vice versa \n",
    "            adder *= -1\n",
    "   \n",
    "            # Keeps on updating 'step_limit' \n",
    "            step_limit += 2\n",
    "            print(step_limit)\n",
    "              \n",
    "            # Resets count \n",
    "            step_count = 0\n",
    "        step_count += 1\n",
    "    print (x, y) \n",
    "   \n",
    "def primeIndex(inp): \n",
    "    cnt, prime_c = 0, 0\n",
    "    for i in range(2, 1000000 + 1): \n",
    "        cnt = 0\n",
    "        for j in range(2, i + 1): \n",
    "            if (i % j == 0): \n",
    "                cnt += 1\n",
    "          \n",
    "        if (cnt == 1): \n",
    "            prime_c += 1\n",
    "   \n",
    "            if (inp == i): \n",
    "   \n",
    "                \"\"\" Replaces the prime number with  \n",
    "                    Step K which will be fed into \n",
    "                    the main algorithm \"\"\"\n",
    "                inp = prime_c \n",
    "                break\n",
    "    return inp \n",
    "   \n",
    "    \n",
    "inp = 113\n",
    "  \n",
    "# Prime Index Finder Output ported \n",
    "# to final algorithm \n",
    "temp = primeIndex(inp) \n",
    "  \n",
    "spiralSplicer(temp) \n"
   ]
  },
  {
   "cell_type": "markdown",
   "metadata": {},
   "source": [
    "code to find the nth term of fibbonaci series:\n",
    "1,1.2,3,5,8,13,21"
   ]
  },
  {
   "cell_type": "code",
   "execution_count": 10,
   "metadata": {},
   "outputs": [],
   "source": [
    "import pandas as pd\n",
    "import numpy as np"
   ]
  },
  {
   "cell_type": "code",
   "execution_count": null,
   "metadata": {},
   "outputs": [],
   "source": []
  },
  {
   "cell_type": "code",
   "execution_count": null,
   "metadata": {},
   "outputs": [],
   "source": []
  },
  {
   "cell_type": "code",
   "execution_count": null,
   "metadata": {},
   "outputs": [],
   "source": [
    "def fibo(n):\n",
    "    fib=[]\n",
    "    a=1\n",
    "    b=1\n",
    "    fib.append(a)\n",
    "    fib.append(b)\n",
    "    if n==0 :\n",
    "        print(a)\n",
    "    elif n==1:\n",
    "        print(b)\n",
    "    while n<=3:\n",
    "        c=a+b\n",
    "        a=b\n",
    "        b=c\n",
    "        fib.append(c)\n",
    "        n -=1\n",
    "    \n",
    "s=fibo(3)\n",
    "    \n",
    "    \n",
    "\n",
    "        "
   ]
  },
  {
   "cell_type": "code",
   "execution_count": null,
   "metadata": {},
   "outputs": [],
   "source": [
    "print(fib)"
   ]
  },
  {
   "cell_type": "code",
   "execution_count": null,
   "metadata": {},
   "outputs": [],
   "source": []
  },
  {
   "cell_type": "code",
   "execution_count": null,
   "metadata": {},
   "outputs": [],
   "source": []
  },
  {
   "cell_type": "code",
   "execution_count": null,
   "metadata": {},
   "outputs": [],
   "source": []
  }
 ],
 "metadata": {
  "kernelspec": {
   "display_name": "Python 3",
   "language": "python",
   "name": "python3"
  },
  "language_info": {
   "codemirror_mode": {
    "name": "ipython",
    "version": 3
   },
   "file_extension": ".py",
   "mimetype": "text/x-python",
   "name": "python",
   "nbconvert_exporter": "python",
   "pygments_lexer": "ipython3",
   "version": "3.7.1"
  }
 },
 "nbformat": 4,
 "nbformat_minor": 2
}
